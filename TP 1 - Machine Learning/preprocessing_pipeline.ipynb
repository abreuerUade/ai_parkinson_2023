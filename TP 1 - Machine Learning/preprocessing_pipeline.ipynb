{
 "cells": [
  {
   "cell_type": "code",
   "execution_count": 1,
   "id": "e10568a6-6b05-4fb9-833e-87eaab7c81f4",
   "metadata": {
    "tags": []
   },
   "outputs": [
    {
     "data": {
      "text/html": [
       "Current session configs: <tt>{'driverMemory': '32G', 'executorCores': 2, 'numExecutors': 10, 'executorMemory': '16G', 'kind': 'pyspark', 'conf': {'spark.pyspark.python': 'python3', 'spark.pyspark.virtualenv.enabled': 'true', 'spark.pyspark.virtualenv.type': 'native', 'spark.pyspark.virtualenv.bin.path': '/usr/bin/virtualenv'}}</tt><br>"
      ],
      "text/plain": [
       "<IPython.core.display.HTML object>"
      ]
     },
     "metadata": {},
     "output_type": "display_data"
    },
    {
     "data": {
      "text/html": [
       "No active sessions."
      ],
      "text/plain": [
       "<IPython.core.display.HTML object>"
      ]
     },
     "metadata": {},
     "output_type": "display_data"
    }
   ],
   "source": [
    "%%configure -f\n",
    "{\n",
    "    \"driverMemory\": \"32G\", \n",
    "    \"executorCores\": 2, \n",
    "    \"numExecutors\": 10, \n",
    "    \"executorMemory\": \"16G\",\n",
    "    \"kind\": \"pyspark3\",\n",
    "    \"conf\":{\n",
    "        \"spark.pyspark.python\": \"python3\",\n",
    "        \"spark.pyspark.virtualenv.enabled\": \"true\",\n",
    "        \"spark.pyspark.virtualenv.type\":\"native\",\n",
    "        \"spark.pyspark.virtualenv.bin.path\":\"/usr/bin/virtualenv\"\n",
    "    }\n",
    "}"
   ]
  },
  {
   "cell_type": "code",
   "execution_count": 2,
   "id": "10b74a94-8929-423b-8053-e708eea9719b",
   "metadata": {
    "tags": []
   },
   "outputs": [
    {
     "name": "stdout",
     "output_type": "stream",
     "text": [
      "Starting Spark application\n"
     ]
    },
    {
     "data": {
      "text/html": [
       "<table>\n",
       "<tr><th>ID</th><th>YARN Application ID</th><th>Kind</th><th>State</th><th>Spark UI</th><th>Driver log</th><th>User</th><th>Current session?</th></tr><tr><td>145</td><td>application_1690391939543_0146</td><td>pyspark</td><td>idle</td><td><a target=\"_blank\" href=\"http://ip-10-50-135-32.ec2.internal:20888/proxy/application_1690391939543_0146/\">Link</a></td><td><a target=\"_blank\" href=\"http://ip-10-50-133-204.ec2.internal:8042/node/containerlogs/container_1690391939543_0146_01_000001/livy\">Link</a></td><td>None</td><td>✔</td></tr></table>"
      ],
      "text/plain": [
       "<IPython.core.display.HTML object>"
      ]
     },
     "metadata": {},
     "output_type": "display_data"
    },
    {
     "data": {
      "application/vnd.jupyter.widget-view+json": {
       "model_id": "f07e9f353dbb408e823d768f1e48f1c8",
       "version_major": 2,
       "version_minor": 0
      },
      "text/plain": [
       "FloatProgress(value=0.0, bar_style='info', description='Progress:', layout=Layout(height='25px', width='50%'),…"
      ]
     },
     "metadata": {},
     "output_type": "display_data"
    },
    {
     "name": "stdout",
     "output_type": "stream",
     "text": [
      "SparkSession available as 'spark'.\n"
     ]
    },
    {
     "data": {
      "application/vnd.jupyter.widget-view+json": {
       "model_id": "636e9aa215ce4dab887916d0db23eae0",
       "version_major": 2,
       "version_minor": 0
      },
      "text/plain": [
       "FloatProgress(value=0.0, bar_style='info', description='Progress:', layout=Layout(height='25px', width='50%'),…"
      ]
     },
     "metadata": {},
     "output_type": "display_data"
    },
    {
     "name": "stdout",
     "output_type": "stream",
     "text": [
      "<SparkContext master=yarn appName=livy-session-145>"
     ]
    }
   ],
   "source": [
    "sc"
   ]
  },
  {
   "cell_type": "code",
   "execution_count": 3,
   "id": "3243d9f1-f8d5-4abb-ab3e-669d33e7e8d2",
   "metadata": {
    "tags": []
   },
   "outputs": [
    {
     "data": {
      "application/vnd.jupyter.widget-view+json": {
       "model_id": "6a1657da73fa41f7a2f3452fd43b30af",
       "version_major": 2,
       "version_minor": 0
      },
      "text/plain": [
       "FloatProgress(value=0.0, bar_style='info', description='Progress:', layout=Layout(height='25px', width='50%'),…"
      ]
     },
     "metadata": {},
     "output_type": "display_data"
    }
   ],
   "source": [
    "bucket_name = \"<bucket-name>\"\n",
    "dataset_path = \"s3://{}/tmp/Accidente.csv\".format(bucket_name)\n",
    "dataset_path_2 = \"s3://{}/tmp/ia_tp1/accidentes-dummies-fc-windchill-precipitation-windspeed-pred.csv\".format(bucket_name)\n",
    "output_path = \"s3://{}/tmp/ia_tp1/\".format(bucket_name)"
   ]
  },
  {
   "cell_type": "code",
   "execution_count": 4,
   "id": "00ad075a-369c-4f38-84b6-f79f935b4d3f",
   "metadata": {
    "tags": []
   },
   "outputs": [
    {
     "data": {
      "application/vnd.jupyter.widget-view+json": {
       "model_id": "f15ae7274c314d448cda091e353cb2f7",
       "version_major": 2,
       "version_minor": 0
      },
      "text/plain": [
       "FloatProgress(value=0.0, bar_style='info', description='Progress:', layout=Layout(height='25px', width='50%'),…"
      ]
     },
     "metadata": {},
     "output_type": "display_data"
    }
   ],
   "source": [
    "from datetime import datetime\n",
    "import math\n",
    "from pyspark.sql.types import (\n",
    "    StringType,\n",
    "    ArrayType,\n",
    "    StructType,\n",
    "    StructField,\n",
    "    BooleanType,\n",
    "    IntegerType,\n",
    "    FloatType,\n",
    ")\n",
    "from pyspark.sql import functions as F"
   ]
  },
  {
   "cell_type": "code",
   "execution_count": 21,
   "id": "fea8591f-0040-4945-ad7b-342ec6095b17",
   "metadata": {
    "tags": []
   },
   "outputs": [
    {
     "data": {
      "application/vnd.jupyter.widget-view+json": {
       "model_id": "e58616e1bf28479fa5781a18186dc957",
       "version_major": 2,
       "version_minor": 0
      },
      "text/plain": [
       "FloatProgress(value=0.0, bar_style='info', description='Progress:', layout=Layout(height='25px', width='50%'),…"
      ]
     },
     "metadata": {},
     "output_type": "display_data"
    }
   ],
   "source": [
    "df = spark.read.csv(dataset_path, header=True)\n",
    "df = df.filter(F.col(\"City\").isNotNull())\n",
    "df = df.filter(F.col(\"ZipCode\").isNotNull())\n",
    "df = df.filter(F.col(\"Timezone\").isNotNull())\n",
    "df = df.filter(F.col(\"Airport_Code\").isNotNull())\n",
    "df = df.filter(F.col(\"Weather_Timestamp\").isNotNull())\n",
    "df = df.filter(F.col(\"Temperature(F)\").isNotNull())\n",
    "df = df.filter(F.col(\"Humidity(%)\").isNotNull())\n",
    "df = df.filter(F.col(\"Pressure(in)\").isNotNull())\n",
    "df = df.filter(F.col(\"Visibility(mi)\").isNotNull())\n",
    "df = df.filter(F.col(\"Wind_Direction\").isNotNull())\n",
    "df = df.filter(F.col(\"Weather_Condition\").isNotNull())\n",
    "df = df.filter(F.col(\"Sunrise_Sunset\").isNotNull())\n",
    "df = df.filter(F.col(\"Civil_Twilight\").isNotNull())\n",
    "df = df.filter(F.col(\"Nautical_Twilight\").isNotNull())\n",
    "df = df.filter(F.col(\"Astronomical_Twilight\").isNotNull())\n",
    "df = df.drop_duplicates()\n",
    "\n",
    "df.createOrReplaceTempView(\"accidentes\")"
   ]
  },
  {
   "cell_type": "code",
   "execution_count": 5,
   "id": "6e9c9fef-1ee1-4879-917d-016fef771355",
   "metadata": {
    "tags": []
   },
   "outputs": [
    {
     "data": {
      "application/vnd.jupyter.widget-view+json": {
       "model_id": "945cb8b4be724b579e4a2cd0c592e42f",
       "version_major": 2,
       "version_minor": 0
      },
      "text/plain": [
       "FloatProgress(value=0.0, bar_style='info', description='Progress:', layout=Layout(height='25px', width='50%'),…"
      ]
     },
     "metadata": {},
     "output_type": "display_data"
    }
   ],
   "source": [
    "states_to_region_csv = \"\"\"\n",
    "al,southeast\n",
    "ar,southeast\n",
    "az,southwest\n",
    "ca,west\n",
    "co,west\n",
    "ct,northeast\n",
    "dc,southeast\n",
    "de,southeast\n",
    "fl,southeast\n",
    "ga,southeast\n",
    "ia,midwest\n",
    "id,west\n",
    "il,midwest\n",
    "in,midwest\n",
    "ks,midwest\n",
    "ky,southeast\n",
    "la,southeast\n",
    "ma,northeast\n",
    "md,northeast\n",
    "me,northeast\n",
    "mi,midwest\n",
    "mn,midwest\n",
    "mo,midwest\n",
    "ms,southeast\n",
    "mt,west\n",
    "nc,southeast\n",
    "nd,midwest\n",
    "ne,midwest\n",
    "nh,northeast\n",
    "nj,northeast\n",
    "nm,southwest\n",
    "nv,west\n",
    "ny,northeast\n",
    "oh,midwest\n",
    "ok,southwest\n",
    "or,west\n",
    "pa,northeast\n",
    "ri,northeast\n",
    "sc,southeast\n",
    "sd,midwest\n",
    "tn,southeast\n",
    "tx,southwest\n",
    "ut,west\n",
    "va,southeast\n",
    "vt,northeast\n",
    "wa,west\n",
    "wi,midwest\n",
    "wv,southeast\n",
    "wy,west\n",
    "\"\"\"\n",
    "\n",
    "state_to_region_map = {v.split(\",\")[0]: v.split(\",\")[1] for v in states_to_region_csv.split(\"\\n\") if len(v) != 0}\n",
    "\n",
    "weathercondition_to_weathertype_csv = \"\"\"\n",
    "blowing snow,snowy\n",
    "ice pellets,sleet\n",
    "clear,sunny\n",
    "fog,restricted_visibility\n",
    "heavy ice pellets,sleet\n",
    "mist,restricted_visibility\n",
    "funnel cloud,windy\n",
    "heavy drizzle,rainy\n",
    "rain shower,rainy\n",
    "a precipitation,rainy\n",
    "squalls,windy\n",
    "light sleet,sleet\n",
    "heavy sleet,sleet\n",
    "snow and thunder,snowy\n",
    "haze,restricted_visibility\n",
    "light haze,restricted_visibility\n",
    "patches of fog,restricted_visibility\n",
    "light snow showers,snowy\n",
    "light blowing snow,snowy\n",
    "thunder and hail,snowy\n",
    "widespread dust,restricted_visibility\n",
    "windy,windy\n",
    "light freezing drizzle,rainy\n",
    "thunderstorms and snow,snowy\n",
    "heavy blowing snow,snowy\n",
    "heavy freezing drizzle,snowy\n",
    "light freezing rain,rainy\n",
    "heavy rain showers,rainy\n",
    "sleet,sleet\n",
    "thunderstorms and rain,rainy\n",
    "light freezing fog,restricted_visibility\n",
    "sand,restricted_visibility\n",
    "showers in the vicinity,rainy\n",
    "light rain shower,rainy\n",
    "rain,rainy\n",
    "snow and sleet,snowy\n",
    "light rain,rainy\n",
    "overcast,cloudy\n",
    "light thunderstorms and rain,rainy\n",
    "partial fog,restricted_visibility\n",
    "mostly cloudy,cloudy\n",
    "tornado,windy\n",
    "light thunderstorm,windy\n",
    "light rain with thunder,windy\n",
    "drizzle,rainy\n",
    "heavy smoke,restricted_visibility\n",
    "shallow fog,restricted_visibility\n",
    "light snow,snowy\n",
    "heavy t-storm,rainy\n",
    "freezing rain,rainy\n",
    "heavy snow,snowy\n",
    "t-storm,rainy\n",
    "thunder,cloudy\n",
    "light rain showers,rainy\n",
    "snow,snowy\n",
    "light snow and sleet,sleet\n",
    "snow showers,snowy\n",
    "heavy snow with thunder,snowy\n",
    "light snow with thunder,snowy\n",
    "hail,snowy\n",
    "partly cloudy,cloudy\n",
    "smoke,restricted_visibility\n",
    "heavy thunderstorms and rain,rainy\n",
    "heavy freezing rain,rainy\n",
    "dust whirlwinds,restricted_visibility\n",
    "heavy thunderstorms and snow,snowy\n",
    "n,sunny\n",
    "heavy rain,rainy\n",
    "light snow shower,snowy\n",
    "rain showers,rainy\n",
    "light thunderstorms and snow,snowy\n",
    "thunder in the vicinity,cloudy\n",
    "low drifting snow,snowy\n",
    "scattered clouds,cloudy\n",
    "snow grains,snowy\n",
    "light drizzle,rainy\n",
    "wintry mix,rainy\n",
    "light snow grains,snowy\n",
    "heavy thunderstorms with small hail,windy\n",
    "fair,sunny\n",
    "light hail,snowy\n",
    "volcanic ash,restricted_visibility\n",
    "light ice pellets,sleet\n",
    "dust whirls,restricted_visibility\n",
    "light fog,restricted_visibility\n",
    "cloudy,cloudy\n",
    "thunderstorm,windy\n",
    "blowing dust,restricted_visibility\n",
    "blowing sand,restricted_visibility\n",
    "small hail,snowy\n",
    "drizzle and fog,rainy\n",
    "\"\"\"\n",
    "\n",
    "environment_influencers = {\n",
    "    \"Amenity\": 0,\n",
    "    \"Bump\": 0,\n",
    "    \"Crossing\": 0,\n",
    "    \"Give_Way\": 0,\n",
    "    \"Junction\": 0,\n",
    "    \"No_Exit\": 0,\n",
    "    \"Railway\": 0,\n",
    "    \"Roundabout\": 0,\n",
    "    \"Station\": 0,\n",
    "    \"Stop\": 0,\n",
    "    \"Traffic_Calming\": 0,\n",
    "    \"Traffic_Signal\": 0,\n",
    "    \"Turning_Loop\": 0,\n",
    "}\n",
    "\n",
    "environment_influencers = {k:(1/len(environment_influencers)) for k, _ in environment_influencers.items()}\n",
    "\n",
    "weathercondition_to_weathertype_map = {v.split(\",\")[0]: v.split(\",\")[1] for v in weathercondition_to_weathertype_csv.split(\"\\n\") if len(v) != 0}\n",
    "\n",
    "@F.udf(returnType=StringType())\n",
    "def set_region_by_state(state):\n",
    "    return state_to_region_map[state.lower()]\n",
    "\n",
    "\n",
    "@F.udf(returnType=ArrayType(StringType()))\n",
    "def set_weather_type_by_weather_condition(weather_condition):\n",
    "    return [weathercondition_to_weathertype_map[v.strip().lower()] for v in weather_condition.strip().split(\"/\")]\n",
    "\n",
    "\n",
    "@F.udf(returnType=StringType())\n",
    "def get_season(start_time):\n",
    "    datetime_object = datetime.strptime(start_time, '%Y-%m-%d %H:%M:%S')\n",
    "    month_and_day = int(\"{}{:02d}\".format(datetime_object.month, datetime_object.day))\n",
    "    if month_and_day <= 319:\n",
    "        season = \"winter\"\n",
    "    elif month_and_day <= 621:\n",
    "        season = \"spring\"\n",
    "    elif month_and_day <= 923:\n",
    "        season = \"summer\"\n",
    "    elif month_and_day <= 1221:\n",
    "        season = \"fall\"\n",
    "    else:\n",
    "        season = \"winter\"\n",
    "    return season\n",
    "\n",
    "\n",
    "@F.udf(returnType=StringType())\n",
    "def get_quarter(start_time):\n",
    "    datetime_object = datetime.strptime(start_time, '%Y-%m-%d %H:%M:%S')\n",
    "    month_and_day = int(\"{}{:02d}\".format(datetime_object.month, datetime_object.day))\n",
    "    if month_and_day <= 331:\n",
    "        quarter = \"q1\"\n",
    "    elif month_and_day <= 630:\n",
    "        quarter = \"q2\"\n",
    "    elif month_and_day <= 930:\n",
    "        quarter = \"q3\"\n",
    "    elif month_and_day <= 1231:\n",
    "        quarter = \"q4\"\n",
    "    return quarter\n",
    "\n",
    "\n",
    "@F.udf(returnType=StringType())\n",
    "def get_day_part(start_time):\n",
    "    datetime_object = datetime.strptime(start_time, '%Y-%m-%d %H:%M:%S')\n",
    "    hour = datetime_object.hour\n",
    "    if hour < 4:\n",
    "        day_part = \"night\"\n",
    "    elif hour < 12:\n",
    "        day_part = \"morning\"\n",
    "    elif hour < 17:\n",
    "        day_part = \"afternoon\"\n",
    "    elif hour < 21:\n",
    "        day_part = \"evening\" \n",
    "    else:\n",
    "        day_part = \"night\"\n",
    "    return day_part\n",
    "\n",
    "\n",
    "@F.udf(returnType=StringType())\n",
    "def get_wind_scale(wind_speed):\n",
    "    if wind_speed is None:\n",
    "        return \"calm\"\n",
    "    \n",
    "    wind_speed = float(wind_speed) * 1.6093 # mph a km/h\n",
    "    if wind_speed < 1:\n",
    "        scale = \"calm\"\n",
    "    elif wind_speed < 3:\n",
    "        scale = \"light air\"\n",
    "    elif wind_speed < 7:\n",
    "        scale = \"light breeze\"\n",
    "    elif wind_speed < 12:\n",
    "        scale = \"gentle breeze\"\n",
    "    elif wind_speed < 18:\n",
    "        scale = \"moderate breeze\"\n",
    "    elif wind_speed < 24:\n",
    "        scale = \"fresh breeze\"\n",
    "    elif wind_speed < 31:\n",
    "        scale = \"strong breeze\"\n",
    "    elif wind_speed < 38:\n",
    "        scale = \"near gale\"\n",
    "    elif wind_speed < 46:\n",
    "        scale = \"gale\"\n",
    "    elif wind_speed < 54:\n",
    "        scale = \"severe gale\"\n",
    "    elif wind_speed < 63:\n",
    "        scale = \"storm\"\n",
    "    elif wind_speed < 72:\n",
    "        scale = \"violent storm\"\n",
    "    elif wind_speed < 83:\n",
    "        scale = \"hurricane\"\n",
    "    else:\n",
    "        scale = \"hurricane\"\n",
    "    return scale\n",
    "\n",
    "\n",
    "@F.udf(returnType=IntegerType())\n",
    "def get_datetime_part(column_value, part_name):\n",
    "    return getattr(datetime.strptime(column_value, '%Y-%m-%d %H:%M:%S'), part_name)\n",
    "\n",
    "\n",
    "suffix_replace = lambda suffix: suffix.strip().lower().replace(\" \", \"_\")\n",
    "def as_column_name(col_name, suffix):\n",
    "    return col_name.lower() + \"__\" + suffix.strip().lower().replace(\" \", \"_\")\n",
    "\n",
    "\n",
    "@F.udf(returnType=IntegerType())\n",
    "def assing_value(column_name, new_column_name, column_value):\n",
    "    result = False\n",
    "    if column_value is None:\n",
    "        return int(result)\n",
    "    \n",
    "    if new_column_name.startswith(\"weather_type\"):\n",
    "        result = any(new_column_name == as_column_name(column_name, v) for v in column_value)\n",
    "    else:\n",
    "        result = new_column_name == as_column_name(column_name, column_value)\n",
    "    \n",
    "    return int(result)\n",
    "\n",
    "\n",
    "@F.udf(returnType=FloatType())\n",
    "def get_coordinate(latitude, longitude, coordinate_name):\n",
    "    latitude = float(latitude)\n",
    "    longitude = float(longitude)\n",
    "    if coordinate_name == \"x\":\n",
    "        return math.cos(latitude) * math.cos(longitude)\n",
    "    elif coordinate_name == \"y\":\n",
    "        return math.cos(latitude) * math.sin(longitude)\n",
    "    elif coordinate_name == \"z\":\n",
    "        return math.sin(latitude)\n",
    "    \n",
    "    \n",
    "@F.udf(returnType=FloatType())\n",
    "# @F.udf(returnType=ArrayType(FloatType()))\n",
    "def determine_environment_influence_degree(\n",
    "    amenity, bump, crossing, give_Way, \n",
    "    junction, no_Exit, railway, roundabout, \n",
    "    station, stop, traffic_calming, \n",
    "    traffic_signal, turning_loop\n",
    "):\n",
    "    columns_values = [\n",
    "        amenity, bump, crossing, give_Way, \n",
    "        junction, no_Exit, railway, roundabout, \n",
    "        station, stop, traffic_calming, \n",
    "        traffic_signal, turning_loop\n",
    "    ]\n",
    "    columns = [int(v) for v in columns_values]\n",
    "    weights = list(environment_influencers.values())\n",
    "    weights_by_columns = [weights[i] for i, v in enumerate(columns) if v == 1]\n",
    "    degree = sum(weights_by_columns)\n",
    "    return round(degree, 6)"
   ]
  },
  {
   "cell_type": "code",
   "execution_count": 23,
   "id": "ba22cd90-4550-4d3c-86dc-dd36916d2984",
   "metadata": {
    "tags": []
   },
   "outputs": [
    {
     "data": {
      "application/vnd.jupyter.widget-view+json": {
       "model_id": "d023c5007ee240189f49daed9d0517b8",
       "version_major": 2,
       "version_minor": 0
      },
      "text/plain": [
       "FloatProgress(value=0.0, bar_style='info', description='Progress:', layout=Layout(height='25px', width='50%'),…"
      ]
     },
     "metadata": {},
     "output_type": "display_data"
    }
   ],
   "source": [
    "df = df.withColumn(\"Region\", set_region_by_state(F.col(\"State\")))\n",
    "df = df.withColumn(\"Season\", get_season(F.col(\"Start_Time\")))\n",
    "df = df.withColumn(\"Quarter\", get_quarter(F.col(\"Start_Time\")))\n",
    "df = df.withColumn(\"Day_Part\", get_day_part(F.col(\"Start_Time\")))\n",
    "df = df.withColumn(\"Wind_Scale\", get_wind_scale(F.col(\"Wind_Speed(mph)\")))\n",
    "df = df.withColumn(\"Weather_Type\", set_weather_type_by_weather_condition(F.col(\"Weather_Condition\")))\n",
    "df = df.withColumn(\"Start_x\", get_coordinate(F.col(\"Start_Lat\"), F.col(\"Start_Lng\"), F.lit(\"x\")))\n",
    "df = df.withColumn(\"Start_y\", get_coordinate(F.col(\"Start_Lat\"), F.col(\"Start_Lng\"), F.lit(\"y\")))\n",
    "df = df.withColumn(\"Start_z\", get_coordinate(F.col(\"Start_Lat\"), F.col(\"Start_Lng\"), F.lit(\"z\")))\n",
    "df = df.withColumn(\n",
    "    \"Environment_Influence\", \n",
    "    determine_environment_influence_degree(\n",
    "        F.col(\"Amenity\").cast(BooleanType()), F.col(\"Bump\").cast(BooleanType()), F.col(\"Crossing\").cast(BooleanType()), \n",
    "        F.col(\"Give_Way\").cast(BooleanType()), F.col(\"Junction\").cast(BooleanType()), F.col(\"No_Exit\").cast(BooleanType()), \n",
    "        F.col(\"Railway\").cast(BooleanType()), F.col(\"Roundabout\").cast(BooleanType()), F.col(\"Station\").cast(BooleanType()), \n",
    "        F.col(\"Stop\").cast(BooleanType()), F.col(\"Traffic_Calming\").cast(BooleanType()), F.col(\"Traffic_Signal\").cast(BooleanType()), \n",
    "        F.col(\"Turning_Loop\").cast(BooleanType())\n",
    "    )\n",
    ")\n",
    "df = df.fillna({\"Environment_Influence\": 0.0})\n",
    "\n",
    "df = (df\n",
    "      .withColumnRenamed(\"Distance(mi)\", \"Distance\")\n",
    "      .withColumnRenamed(\"Temperature(F)\", \"Temperature\")\n",
    "      .withColumnRenamed(\"Wind_Chill(F)\", \"Wind_Chill\")\n",
    "      .withColumnRenamed(\"Humidity(%)\", \"Humidity\")\n",
    "      .withColumnRenamed(\"Pressure(in)\", \"Pressure\")\n",
    "      .withColumnRenamed(\"Visibility(mi)\", \"Visibility\")\n",
    "      .withColumnRenamed(\"Wind_Speed(mph)\", \"Wind_Speed\")\n",
    "      .withColumnRenamed(\"Precipitation(in)\", \"Precipitation\")\n",
    ")"
   ]
  },
  {
   "cell_type": "code",
   "execution_count": 24,
   "id": "267d506d-5dcc-42f5-9fa6-49781c60fa23",
   "metadata": {
    "tags": []
   },
   "outputs": [
    {
     "data": {
      "application/vnd.jupyter.widget-view+json": {
       "model_id": "968d06cb831741aea94381f08eea43d3",
       "version_major": 2,
       "version_minor": 0
      },
      "text/plain": [
       "FloatProgress(value=0.0, bar_style='info', description='Progress:', layout=Layout(height='25px', width='50%'),…"
      ]
     },
     "metadata": {},
     "output_type": "display_data"
    }
   ],
   "source": [
    "df.write.parquet(output_path + \"accidentes_new_attributes\", mode=\"overwrite\", compression=\"snappy\")"
   ]
  },
  {
   "cell_type": "code",
   "execution_count": 26,
   "id": "af2b2221-df72-403d-b7fa-4af60efab701",
   "metadata": {
    "tags": []
   },
   "outputs": [
    {
     "data": {
      "application/vnd.jupyter.widget-view+json": {
       "model_id": "14f269e2b8a34e41a1d2f72dbd1b8ef2",
       "version_major": 2,
       "version_minor": 0
      },
      "text/plain": [
       "FloatProgress(value=0.0, bar_style='info', description='Progress:', layout=Layout(height='25px', width='50%'),…"
      ]
     },
     "metadata": {},
     "output_type": "display_data"
    }
   ],
   "source": [
    "df = spark.read.parquet(output_path + \"accidentes_new_attributes\")"
   ]
  },
  {
   "cell_type": "code",
   "execution_count": 27,
   "id": "ae2a4a27-1254-47b6-88ff-ccb2e5357114",
   "metadata": {
    "tags": []
   },
   "outputs": [
    {
     "data": {
      "application/vnd.jupyter.widget-view+json": {
       "model_id": "659a6ff808ce4483b80a6436e6fe1b21",
       "version_major": 2,
       "version_minor": 0
      },
      "text/plain": [
       "FloatProgress(value=0.0, bar_style='info', description='Progress:', layout=Layout(height='25px', width='50%'),…"
      ]
     },
     "metadata": {},
     "output_type": "display_data"
    }
   ],
   "source": [
    "unique_values = {}\n",
    "columns_to_check = [\n",
    "    \"Side\",\n",
    "    \"City\",\n",
    "    \"County\",\n",
    "    \"State\",\n",
    "    \"Airport_Code\",\n",
    "    \"Wind_Direction\",\n",
    "    \"Weather_Condition\",\n",
    "    \"Amenity\",\n",
    "    \"Bump\",\n",
    "    \"Crossing\",\n",
    "    \"Give_Way\",\n",
    "    \"Junction\",\n",
    "    \"No_Exit\",\n",
    "    \"Railway\",\n",
    "    \"Roundabout\",\n",
    "    \"Station\",\n",
    "    \"Stop\",\n",
    "    \"Traffic_Calming\",\n",
    "    \"Traffic_Signal\",\n",
    "    \"Turning_Loop\",\n",
    "    \"Sunrise_Sunset\",\n",
    "    \"Civil_Twilight\",\n",
    "    \"Nautical_Twilight\",\n",
    "    \"Astronomical_Twilight\",\n",
    "    \"Region\",\n",
    "    \"Season\",\n",
    "    \"Quarter\",\n",
    "    \"Day_Part\",\n",
    "    \"Wind_Scale\",\n",
    "    \"Weather_Type\",\n",
    "]\n",
    "\n",
    "df.createOrReplaceTempView(\"accidentes\")\n",
    "for col_name in columns_to_check:\n",
    "    if col_name == \"Weather_Type\":\n",
    "        values = list(set(weathercondition_to_weathertype_map.values()))\n",
    "    else:\n",
    "        values = [row[col_name] for row in spark.sql(\"select distinct {} from accidentes\".format(col_name)).collect()]\n",
    "        \n",
    "    unique_values[col_name] = set([str(v).lower() for v in values if v is not None and len(str(v).strip()) > 0])"
   ]
  },
  {
   "cell_type": "code",
   "execution_count": 28,
   "id": "9949083b-d3a8-434b-a13e-7be9a922fe49",
   "metadata": {
    "tags": []
   },
   "outputs": [
    {
     "data": {
      "application/vnd.jupyter.widget-view+json": {
       "model_id": "ef25580a20ba4898bfff5c8175a25c86",
       "version_major": 2,
       "version_minor": 0
      },
      "text/plain": [
       "FloatProgress(value=0.0, bar_style='info', description='Progress:', layout=Layout(height='25px', width='50%'),…"
      ]
     },
     "metadata": {},
     "output_type": "display_data"
    }
   ],
   "source": [
    "weather_condition = set(unique_values[\"Weather_Condition\"])\n",
    "new_values = set()\n",
    "for v in weather_condition:\n",
    "    values = v.strip().split(\"/\")\n",
    "    for new_value in values:\n",
    "        new_values.add(new_value.strip())\n",
    "\n",
    "unique_values[\"Weather_Condition_old\"] = set(unique_values[\"Weather_Condition\"])\n",
    "unique_values[\"Weather_Condition\"] = new_values\n",
    "\n",
    "wind_direction = set(unique_values[\"Wind_Direction\"])\n",
    "new_values = {}\n",
    "for v in wind_direction:\n",
    "    if v == \"e\":\n",
    "        new_values[v] = \"east\"\n",
    "    elif v == \"n\":\n",
    "        new_values[v] = \"north\"\n",
    "    elif v == \"s\":\n",
    "        new_values[v] = \"south\"\n",
    "    elif v == \"w\":\n",
    "        new_values[v] = \"west\"\n",
    "    elif v == \"var\":\n",
    "        new_values[v] = \"variable\"\n",
    "    else:\n",
    "        new_values[v] = v\n",
    "\n",
    "unique_values[\"Wind_Direction_old\"] = set(unique_values[\"Wind_Direction\"])\n",
    "unique_values[\"Wind_Direction\"] = new_values\n",
    "    "
   ]
  },
  {
   "cell_type": "code",
   "execution_count": 29,
   "id": "eeee5cbc-3a73-4014-8eae-7a50c70b6fa1",
   "metadata": {
    "tags": []
   },
   "outputs": [
    {
     "data": {
      "application/vnd.jupyter.widget-view+json": {
       "model_id": "2fd98096fb8c4346807f63d130cc6d2f",
       "version_major": 2,
       "version_minor": 0
      },
      "text/plain": [
       "FloatProgress(value=0.0, bar_style='info', description='Progress:', layout=Layout(height='25px', width='50%'),…"
      ]
     },
     "metadata": {},
     "output_type": "display_data"
    }
   ],
   "source": [
    "try:\n",
    "    del unique_values[\"Weather_Condition_old\"]\n",
    "except KeyError:\n",
    "    pass\n",
    "\n",
    "try:\n",
    "    del unique_values[\"Weather_Condition\"]\n",
    "except KeyError:\n",
    "    pass\n",
    "\n",
    "try:\n",
    "    del unique_values[\"Wind_Direction_old\"]\n",
    "except KeyError:\n",
    "    pass\n",
    "\n",
    "try:\n",
    "    del unique_values[\"City\"]\n",
    "except KeyError:\n",
    "    pass\n",
    "\n",
    "try:\n",
    "    del unique_values[\"County\"]\n",
    "except KeyError:\n",
    "    pass\n",
    "\n",
    "try:\n",
    "    del unique_values[\"State\"]\n",
    "except KeyError:\n",
    "    pass\n",
    "\n",
    "try:\n",
    "    del unique_values[\"Airport_Code\"]\n",
    "except KeyError:\n",
    "    pass\n",
    "\n",
    "two_values_only = []\n",
    "for k, v in unique_values.items():\n",
    "    if len(v) <= 2:\n",
    "        two_values_only.append(k)\n",
    "        \n",
    "for k in two_values_only:\n",
    "    del unique_values[k]\n",
    "\n",
    "# City,11639\n",
    "# County,1692\n",
    "# State,49\n",
    "# Airport_Code,1995\n",
    "# Street, 160715"
   ]
  },
  {
   "cell_type": "code",
   "execution_count": 30,
   "id": "d9338e60-8717-44fd-9b00-f8c0bbe7d8cf",
   "metadata": {
    "tags": []
   },
   "outputs": [
    {
     "data": {
      "application/vnd.jupyter.widget-view+json": {
       "model_id": "7396bf142d614304a83d2dc54582a7e9",
       "version_major": 2,
       "version_minor": 0
      },
      "text/plain": [
       "FloatProgress(value=0.0, bar_style='info', description='Progress:', layout=Layout(height='25px', width='50%'),…"
      ]
     },
     "metadata": {},
     "output_type": "display_data"
    },
    {
     "name": "stdout",
     "output_type": "stream",
     "text": [
      "Wind_Direction,23\n",
      "Region,5\n",
      "Season,4\n",
      "Quarter,4\n",
      "Day_Part,4\n",
      "Wind_Scale,13\n",
      "Weather_Type,7"
     ]
    }
   ],
   "source": [
    "for key, value in unique_values.items():\n",
    "    print(\"{},{}\".format(key, len(value)))"
   ]
  },
  {
   "cell_type": "code",
   "execution_count": 31,
   "id": "253b3163-49f2-496f-9a27-a28ade423456",
   "metadata": {
    "tags": []
   },
   "outputs": [
    {
     "data": {
      "application/vnd.jupyter.widget-view+json": {
       "model_id": "360978e13fcc4f0891e45b1b1e814f4c",
       "version_major": 2,
       "version_minor": 0
      },
      "text/plain": [
       "FloatProgress(value=0.0, bar_style='info', description='Progress:', layout=Layout(height='25px', width='50%'),…"
      ]
     },
     "metadata": {},
     "output_type": "display_data"
    }
   ],
   "source": [
    "df = df.withColumn(\"start_time__year\", get_datetime_part(F.col(\"Start_Time\"), F.lit(\"year\")))\n",
    "df = df.withColumn(\"start_time__month\", get_datetime_part(F.col(\"Start_Time\"), F.lit(\"month\")))\n",
    "df = df.withColumn(\"start_time__day\", get_datetime_part(F.col(\"Start_Time\"), F.lit(\"day\")))\n",
    "df = df.withColumn(\"start_time__hour\", get_datetime_part(F.col(\"Start_Time\"), F.lit(\"hour\")))"
   ]
  },
  {
   "cell_type": "code",
   "execution_count": 32,
   "id": "dbd1690b-cf05-4e1e-80c6-5c5449468365",
   "metadata": {
    "tags": []
   },
   "outputs": [
    {
     "data": {
      "application/vnd.jupyter.widget-view+json": {
       "model_id": "c29174a598b24a399aaf3bec0661f46d",
       "version_major": 2,
       "version_minor": 0
      },
      "text/plain": [
       "FloatProgress(value=0.0, bar_style='info', description='Progress:', layout=Layout(height='25px', width='50%'),…"
      ]
     },
     "metadata": {},
     "output_type": "display_data"
    },
    {
     "name": "stdout",
     "output_type": "stream",
     "text": [
      "+--------+--------+-----------+----------+--------+--------+----------+----------+-------------+---------+------+-------+---------+---------------+-----------+-----------+-----------+---------------------+----------------+-----------------+---------------+----------------+--------------------+------------------+------------------+------------------------+-------------------+-------------------+-------------------+---------------------+------------------+-------------------+--------------------+-------------------+-------------------+------------------+---------------------+-------------------+-------------------+--------------------+------------+-----------------+-----------------+-----------------+---------------+--------------+--------------+--------------+------------+-----------+-----------+-----------+-----------+-----------------+-------------------+-----------------+---------------+-------------------------+-------------------------+---------------------+-------------------------+-----------------+-----------------------+---------------------+---------------------+------------------------+----------------+------------------------+---------------------------+----------------+--------------------+-------------------+-----------------------------------+-------------------+-------------------+-------------------+-------------------+\n",
      "|Severity|Distance|Temperature|Wind_Chill|Humidity|Pressure|Visibility|Wind_Speed|Precipitation|Region   |Season|Quarter|Day_Part |Wind_Scale     |Start_x    |Start_y    |Start_z    |Environment_Influence|start_time__year|start_time__month|start_time__day|start_time__hour|wind_direction__west|wind_direction__nw|wind_direction__ne|wind_direction__variable|wind_direction__wsw|wind_direction__ese|wind_direction__nnw|wind_direction__south|wind_direction__se|wind_direction__sse|wind_direction__east|wind_direction__ssw|wind_direction__nne|wind_direction__sw|wind_direction__north|wind_direction__wnw|wind_direction__ene|wind_direction__calm|region__west|region__northeast|region__southwest|region__southeast|region__midwest|season__spring|season__summer|season__winter|season__fall|quarter__q1|quarter__q2|quarter__q4|quarter__q3|day_part__morning|day_part__afternoon|day_part__evening|day_part__night|wind_scale__strong_breeze|wind_scale__gentle_breeze|wind_scale__hurricane|wind_scale__violent_storm|wind_scale__storm|wind_scale__severe_gale|wind_scale__near_gale|wind_scale__light_air|wind_scale__light_breeze|wind_scale__gale|wind_scale__fresh_breeze|wind_scale__moderate_breeze|wind_scale__calm|weather_type__cloudy|weather_type__sunny|weather_type__restricted_visibility|weather_type__rainy|weather_type__snowy|weather_type__windy|weather_type__sleet|\n",
      "+--------+--------+-----------+----------+--------+--------+----------+----------+-------------+---------+------+-------+---------+---------------+-----------+-----------+-----------+---------------------+----------------+-----------------+---------------+----------------+--------------------+------------------+------------------+------------------------+-------------------+-------------------+-------------------+---------------------+------------------+-------------------+--------------------+-------------------+-------------------+------------------+---------------------+-------------------+-------------------+--------------------+------------+-----------------+-----------------+-----------------+---------------+--------------+--------------+--------------+------------+-----------+-----------+-----------+-----------+-----------------+-------------------+-----------------+---------------+-------------------------+-------------------------+---------------------+-------------------------+-----------------+-----------------------+---------------------+---------------------+------------------------+----------------+------------------------+---------------------------+----------------+--------------------+-------------------+-----------------------------------+-------------------+-------------------+-------------------+-------------------+\n",
      "|2       |0.0     |75.2       |null      |47.0    |30.05   |10.0      |4.6       |null         |west     |spring|q2     |afternoon|gentle breeze  |-0.17388955|-0.84597147|0.5040781  |0.0                  |2016            |6                |16             |12              |0                   |0                 |0                 |0                       |0                  |0                  |0                  |0                    |0                 |0                  |0                   |0                  |0                  |1                 |0                    |0                  |0                  |0                   |1           |0                |0                |0                |0              |1             |0             |0             |0           |0          |1          |0          |0          |0                |1                  |0                |0              |0                        |1                        |0                    |0                        |0                |0                      |0                    |0                    |0                       |0               |0                       |0                          |0               |0                   |1                  |0                                  |0                  |0                  |0                  |0                  |\n",
      "|3       |0.0     |73.0       |null      |59.0    |30.04   |8.0       |10.4      |null         |west     |spring|q2     |afternoon|moderate breeze|-0.45358294|-0.7012552 |0.5500033  |0.0                  |2016            |6                |17             |12              |0                   |0                 |0                 |0                       |1                  |0                  |0                  |0                    |0                 |0                  |0                   |0                  |0                  |0                 |0                    |0                  |0                  |0                   |1           |0                |0                |0                |0              |1             |0             |0             |0           |0          |1          |0          |0          |0                |1                  |0                |0              |0                        |0                        |0                    |0                        |0                |0                      |0                    |0                    |0                       |0               |0                       |1                          |0               |1                   |0                  |0                                  |0                  |0                  |0                  |0                  |\n",
      "|2       |0.0     |94.5       |null      |14.0    |29.96   |10.0      |6.9       |null         |west     |spring|q2     |afternoon|gentle breeze  |0.49010113 |-0.77131593|0.40604514 |0.076923             |2016            |6                |17             |16              |0                   |0                 |0                 |0                       |1                  |0                  |0                  |0                    |0                 |0                  |0                   |0                  |0                  |0                 |0                    |0                  |0                  |0                   |1           |0                |0                |0                |0              |1             |0             |0             |0           |0          |1          |0          |0          |0                |1                  |0                |0              |0                        |1                        |0                    |0                        |0                |0                      |0                    |0                    |0                       |0               |0                       |0                          |0               |0                   |1                  |0                                  |0                  |0                  |0                  |0                  |\n",
      "|3       |0.0     |97.0       |null      |16.0    |29.78   |10.0      |null      |null         |west     |spring|q2     |evening  |calm           |-0.4240927 |-0.8164579 |0.39184415 |0.076923             |2016            |6                |20             |17              |0                   |0                 |0                 |0                       |0                  |0                  |0                  |0                    |0                 |0                  |0                   |0                  |0                  |0                 |0                    |0                  |0                  |1                   |1           |0                |0                |0                |0              |1             |0             |0             |0           |0          |1          |0          |0          |0                |0                  |1                |0              |0                        |0                        |0                    |0                        |0                |0                      |0                    |0                    |0                       |0               |0                       |0                          |1               |0                   |1                  |0                                  |0                  |0                  |0                  |0                  |\n",
      "|2       |0.01    |73.4       |null      |73.0    |30.22   |7.0       |11.5      |null         |southeast|fall  |q4     |afternoon|fresh breeze   |-0.7427054 |-0.6172414 |-0.2596185 |0.0                  |2016            |12               |11             |13              |0                   |0                 |0                 |0                       |0                  |0                  |0                  |0                    |0                 |0                  |1                   |0                  |0                  |0                 |0                    |0                  |0                  |0                   |0           |0                |0                |1                |0              |0             |0             |0             |1           |0          |0          |1          |0          |0                |1                  |0                |0              |0                        |0                        |0                    |0                        |0                |0                      |0                    |0                    |0                       |0               |1                       |0                          |0               |1                   |0                  |0                                  |0                  |0                  |0                  |0                  |\n",
      "|2       |0.0     |70.0       |null      |61.0    |30.15   |10.0      |11.5      |null         |southeast|fall  |q4     |afternoon|fresh breeze   |-0.6132456 |0.7555126  |-0.23050061|0.0                  |2016            |12               |15             |12              |0                   |0                 |0                 |0                       |0                  |0                  |1                  |0                    |0                 |0                  |0                   |0                  |0                  |0                 |0                    |0                  |0                  |0                   |0           |0                |0                |1                |0              |0             |0             |0             |1           |0          |0          |1          |0          |0                |1                  |0                |0              |0                        |0                        |0                    |0                        |0                |0                      |0                    |0                    |0                       |0               |1                       |0                          |0               |1                   |0                  |0                                  |0                  |0                  |0                  |0                  |\n",
      "|2       |0.01    |73.0       |null      |81.0    |30.2    |10.0      |4.6       |null         |southeast|fall  |q4     |evening  |gentle breeze  |-0.42081627|0.5238343  |0.7406155  |0.076923             |2016            |12               |20             |18              |0                   |0                 |0                 |0                       |0                  |0                  |0                  |0                    |0                 |0                  |0                   |0                  |0                  |0                 |1                    |0                  |0                  |0                   |0           |0                |0                |1                |0              |0             |0             |0             |1           |0          |0          |1          |0          |0                |0                  |1                |0              |0                        |1                        |0                    |0                        |0                |0                      |0                    |0                    |0                       |0               |0                       |0                          |0               |1                   |0                  |0                                  |0                  |0                  |0                  |0                  |\n",
      "|2       |0.01    |73.9       |null      |66.0    |30.22   |10.0      |6.9       |null         |southeast|winter|q4     |evening  |gentle breeze  |-0.4788178 |0.8489853  |0.22351174 |0.076923             |2016            |12               |23             |17              |0                   |0                 |0                 |0                       |0                  |0                  |0                  |0                    |0                 |0                  |0                   |0                  |0                  |0                 |0                    |0                  |1                  |0                   |0           |0                |0                |1                |0              |0             |0             |1             |0           |0          |0          |1          |0          |0                |0                  |1                |0              |0                        |1                        |0                    |0                        |0                |0                      |0                    |0                    |0                       |0               |0                       |0                          |0               |0                   |1                  |0                                  |0                  |0                  |0                  |0                  |\n",
      "|2       |0.01    |66.0       |null      |96.0    |30.12   |10.0      |null      |null         |southeast|winter|q4     |morning  |calm           |-0.62193066|0.7567131  |0.20146355 |0.0                  |2016            |12               |29             |8               |0                   |0                 |0                 |0                       |0                  |0                  |0                  |0                    |0                 |0                  |0                   |0                  |0                  |0                 |0                    |0                  |0                  |1                   |0           |0                |0                |1                |0              |0             |0             |1             |0           |0          |0          |1          |0          |1                |0                  |0                |0              |0                        |0                        |0                    |0                        |0                |0                      |0                    |0                    |0                       |0               |0                       |0                          |1               |1                   |0                  |0                                  |0                  |0                  |0                  |0                  |\n",
      "|2       |0.01    |78.8       |null      |69.0    |30.02   |10.0      |6.9       |null         |southeast|winter|q4     |afternoon|gentle breeze  |-0.7326555 |0.60123396 |0.31895706 |0.0                  |2016            |12               |29             |15              |0                   |0                 |0                 |0                       |0                  |0                  |0                  |0                    |0                 |0                  |0                   |0                  |0                  |0                 |0                    |1                  |0                  |0                   |0           |0                |0                |1                |0              |0             |0             |1             |0           |0          |0          |1          |0          |0                |1                  |0                |0              |0                        |1                        |0                    |0                        |0                |0                      |0                    |0                    |0                       |0               |0                       |0                          |0               |0                   |1                  |0                                  |0                  |0                  |0                  |0                  |\n",
      "+--------+--------+-----------+----------+--------+--------+----------+----------+-------------+---------+------+-------+---------+---------------+-----------+-----------+-----------+---------------------+----------------+-----------------+---------------+----------------+--------------------+------------------+------------------+------------------------+-------------------+-------------------+-------------------+---------------------+------------------+-------------------+--------------------+-------------------+-------------------+------------------+---------------------+-------------------+-------------------+--------------------+------------+-----------------+-----------------+-----------------+---------------+--------------+--------------+--------------+------------+-----------+-----------+-----------+-----------+-----------------+-------------------+-----------------+---------------+-------------------------+-------------------------+---------------------+-------------------------+-----------------+-----------------------+---------------------+---------------------+------------------------+----------------+------------------------+---------------------------+----------------+--------------------+-------------------+-----------------------------------+-------------------+-------------------+-------------------+-------------------+\n",
      "only showing top 10 rows"
     ]
    }
   ],
   "source": [
    "def get_new_column_names(col_name):\n",
    "    names = []\n",
    "    if isinstance(unique_values[col_name], set):\n",
    "        names = [as_column_name(col_name, v) for v in unique_values[col_name]]\n",
    "    elif isinstance(unique_values[col_name], dict):\n",
    "        names = [as_column_name(col_name, v) for v in set(unique_values[col_name].values())]\n",
    "    return names\n",
    "\n",
    "# column_names = [\"State\"]\n",
    "# for column_name in column_names:\n",
    "for column_name in unique_values.keys():\n",
    "    for new_column_name in get_new_column_names(column_name):\n",
    "        df = df.withColumn(new_column_name, assing_value(F.lit(column_name), F.lit(new_column_name), F.col(column_name)))\n",
    "\n",
    "df = df.drop(*[\n",
    "    \"ID\",\n",
    "    \"TMC\",\n",
    "    \"Source\",\n",
    "    \"Start_Time\",\n",
    "    \"End_Time\",\n",
    "    \"Start_Lat\",\n",
    "    \"Start_Lng\",\n",
    "    \"End_Lat\",\n",
    "    \"End_Lng\",\n",
    "    \"Description\",\n",
    "    \"Number\",\n",
    "    \"Side\",\n",
    "    \"Street\",\n",
    "    \"City\",\n",
    "    \"County\",\n",
    "    \"State\",\n",
    "    \"Zipcode\",\n",
    "    \"Country\",\n",
    "    \"TimeZone\",\n",
    "    \"Airport_Code\",\n",
    "    \"Weather_Timestamp\",\n",
    "    \"Wind_Direction\",\n",
    "    \"Weather_Condition\",\n",
    "    \"Amenity\",\n",
    "    \"Bump\",\n",
    "    \"Crossing\",\n",
    "    \"Give_Way\",\n",
    "    \"Junction\",\n",
    "    \"No_Exit\",\n",
    "    \"Railway\",\n",
    "    \"Roundabout\",\n",
    "    \"Station\",\n",
    "    \"Stop\",\n",
    "    \"Traffic_Calming\",\n",
    "    \"Traffic_Signal\",\n",
    "    \"Turning_Loop\",\n",
    "    \"Sunrise_Sunset\",\n",
    "    \"Civil_Twilight\",\n",
    "    \"Nautical_Twilight\",\n",
    "    \"Astronomical_Twilight\",\n",
    "    \"Weather_Type\",\n",
    "])\n",
    "\n",
    "df.show(10, False)"
   ]
  },
  {
   "cell_type": "code",
   "execution_count": 33,
   "id": "c8137f97-bac5-4847-89dc-0dbd4c5a2a15",
   "metadata": {
    "tags": []
   },
   "outputs": [
    {
     "data": {
      "application/vnd.jupyter.widget-view+json": {
       "model_id": "23d048ae2f88433bbf886705902ed844",
       "version_major": 2,
       "version_minor": 0
      },
      "text/plain": [
       "FloatProgress(value=0.0, bar_style='info', description='Progress:', layout=Layout(height='25px', width='50%'),…"
      ]
     },
     "metadata": {},
     "output_type": "display_data"
    }
   ],
   "source": [
    "df.write.parquet(output_path + \"accidentes_dummies\", mode=\"overwrite\", compression=\"snappy\")"
   ]
  },
  {
   "cell_type": "code",
   "execution_count": 35,
   "id": "2643bb75-fc3e-4d15-96a7-59255efdd2d1",
   "metadata": {
    "tags": []
   },
   "outputs": [
    {
     "data": {
      "application/vnd.jupyter.widget-view+json": {
       "model_id": "ebb0a176a9884a0480beff9faea4a968",
       "version_major": 2,
       "version_minor": 0
      },
      "text/plain": [
       "FloatProgress(value=0.0, bar_style='info', description='Progress:', layout=Layout(height='25px', width='50%'),…"
      ]
     },
     "metadata": {},
     "output_type": "display_data"
    }
   ],
   "source": [
    "df = spark.read.parquet(output_path + \"accidentes_dummies\")\n",
    "df.repartition(1).write.csv(output_path + \"accidentes_dummies_onefile\", header=True)"
   ]
  },
  {
   "cell_type": "code",
   "execution_count": 18,
   "id": "5f5b202a-cd44-4f99-8d10-4e0449ee4748",
   "metadata": {
    "tags": []
   },
   "outputs": [
    {
     "data": {
      "application/vnd.jupyter.widget-view+json": {
       "model_id": "33c50d5447e841268e7f28ebbe288366",
       "version_major": 2,
       "version_minor": 0
      },
      "text/plain": [
       "FloatProgress(value=0.0, bar_style='info', description='Progress:', layout=Layout(height='25px', width='50%'),…"
      ]
     },
     "metadata": {},
     "output_type": "display_data"
    }
   ],
   "source": [
    "df = spark.read.parquet(output_path + \"accidentes_dummies\")\n",
    "df.createOrReplaceTempView(\"accidentes_dummies\")"
   ]
  },
  {
   "cell_type": "code",
   "execution_count": 20,
   "id": "c747ce58-d4fb-47e4-9bc7-aaaf0fad2916",
   "metadata": {
    "tags": []
   },
   "outputs": [
    {
     "data": {
      "application/vnd.jupyter.widget-view+json": {
       "model_id": "5d231556796e4f5d80881d736b19e761",
       "version_major": 2,
       "version_minor": 0
      },
      "text/plain": [
       "FloatProgress(value=0.0, bar_style='info', description='Progress:', layout=Layout(height='25px', width='50%'),…"
      ]
     },
     "metadata": {},
     "output_type": "display_data"
    },
    {
     "name": "stdout",
     "output_type": "stream",
     "text": [
      "+--------------------+-------------------+-----------------------------------+-------------------+-------------------+-------------------+-------------------+\n",
      "|weather_type__cloudy|weather_type__sunny|weather_type__restricted_visibility|weather_type__rainy|weather_type__snowy|weather_type__windy|weather_type__sleet|\n",
      "+--------------------+-------------------+-----------------------------------+-------------------+-------------------+-------------------+-------------------+\n",
      "|0                   |1                  |0                                  |0                  |0                  |0                  |0                  |\n",
      "|0                   |1                  |0                                  |0                  |0                  |0                  |0                  |\n",
      "|0                   |1                  |0                                  |0                  |0                  |0                  |0                  |\n",
      "|0                   |1                  |0                                  |0                  |0                  |0                  |0                  |\n",
      "|0                   |1                  |0                                  |0                  |0                  |0                  |0                  |\n",
      "|0                   |1                  |0                                  |0                  |0                  |0                  |0                  |\n",
      "|0                   |1                  |0                                  |0                  |0                  |0                  |0                  |\n",
      "|0                   |1                  |0                                  |0                  |0                  |0                  |0                  |\n",
      "|0                   |1                  |0                                  |0                  |0                  |0                  |0                  |\n",
      "|0                   |1                  |0                                  |0                  |0                  |0                  |0                  |\n",
      "+--------------------+-------------------+-----------------------------------+-------------------+-------------------+-------------------+-------------------+\n",
      "only showing top 10 rows"
     ]
    }
   ],
   "source": [
    "spark.sql(\"select weather_type__cloudy, weather_type__sunny, weather_type__restricted_visibility, weather_type__rainy, weather_type__snowy, weather_type__windy, weather_type__sleet from accidentes_dummies where weather_type__sunny != 0\").show(10, False)"
   ]
  },
  {
   "cell_type": "code",
   "execution_count": 8,
   "id": "fd8fb5e9-5cf4-44d8-9069-936a91056e41",
   "metadata": {
    "tags": []
   },
   "outputs": [
    {
     "data": {
      "application/vnd.jupyter.widget-view+json": {
       "model_id": "edab5bc965db4c2cb5932a6f4da4966e",
       "version_major": 2,
       "version_minor": 0
      },
      "text/plain": [
       "FloatProgress(value=0.0, bar_style='info', description='Progress:', layout=Layout(height='25px', width='50%'),…"
      ]
     },
     "metadata": {},
     "output_type": "display_data"
    },
    {
     "name": "stdout",
     "output_type": "stream",
     "text": [
      "+----------------+--------+--------+\n",
      "|start_time__year|severity|count(0)|\n",
      "+----------------+--------+--------+\n",
      "|2016            |1       |219     |\n",
      "|2016            |2       |261987  |\n",
      "|2016            |3       |121901  |\n",
      "|2016            |4       |13664   |\n",
      "|2017            |1       |270     |\n",
      "|2017            |2       |448322  |\n",
      "|2017            |3       |222688  |\n",
      "|2017            |4       |23116   |\n",
      "|2018            |1       |252     |\n",
      "|2018            |2       |558329  |\n",
      "|2018            |3       |281790  |\n",
      "|2018            |4       |24539   |\n",
      "|2019            |1       |196     |\n",
      "|2019            |2       |666595  |\n",
      "|2019            |3       |230686  |\n",
      "|2019            |4       |26939   |\n",
      "+----------------+--------+--------+"
     ]
    }
   ],
   "source": [
    "spark.sql(\"select start_time__year, severity, count(0) from accidentes_dummies group by start_time__year, severity order by start_time__year, severity\").show(100, False)"
   ]
  },
  {
   "cell_type": "code",
   "execution_count": 7,
   "id": "abe46290-f1c8-4c1f-a007-0f1d8e20b1d8",
   "metadata": {
    "tags": []
   },
   "outputs": [
    {
     "data": {
      "application/vnd.jupyter.widget-view+json": {
       "model_id": "51953987d3044678a6743029f16b1ea3",
       "version_major": 2,
       "version_minor": 0
      },
      "text/plain": [
       "FloatProgress(value=0.0, bar_style='info', description='Progress:', layout=Layout(height='25px', width='50%'),…"
      ]
     },
     "metadata": {},
     "output_type": "display_data"
    }
   ],
   "source": [
    "df = spark.read.csv(dataset_path_2, header=True)\n",
    "# df.printSchema()\n",
    "df = df.withColumn(\"Wind_Scale\", get_wind_scale(F.col(\"Wind_Speed\")))\n",
    "\n",
    "column_name = \"Wind_Scale\"\n",
    "wind_scale_values = [\"calm\", \"light air\", \"light breeze\", \"gentle breeze\", \"moderate breeze\", \"fresh breeze\", \"strong breeze\", \"near gale\", \"gale\", \"severe gale\", \"storm\", \"violent storm\", \"hurricane\"]\n",
    "names = [as_column_name(column_name, v) for v in wind_scale_values]\n",
    "for new_column_name in names:\n",
    "    df = df.withColumn(new_column_name, assing_value(F.lit(column_name), F.lit(new_column_name), F.col(column_name)))\n",
    "    \n",
    "# df.filter(F.col(\"Wind_Speed\") == F.col(\"Wind_Speed_pred\")).select(*[F.col(c) for c in [\"Wind_Speed\", \"Wind_Scale\", 'wind_scale__calm', 'wind_scale__light_air', 'wind_scale__light_breeze', 'wind_scale__gentle_breeze', 'wind_scale__moderate_breeze', 'wind_scale__fresh_breeze', 'wind_scale__strong_breeze', 'wind_scale__near_gale', 'wind_scale__gale', 'wind_scale__severe_gale', 'wind_scale__storm', 'wind_scale__violent_storm', 'wind_scale__hurricane']]).show(10, False)\n",
    "df = df.drop_duplicates() # 2855860 / 2881493\n",
    "df.repartition(1).write.csv(output_path + \"accidentes_dummies_windspeed_windscale\", header=True)"
   ]
  },
  {
   "cell_type": "code",
   "execution_count": 51,
   "id": "bb697e71-d8ef-4958-8657-fe32bca3eb49",
   "metadata": {
    "tags": []
   },
   "outputs": [
    {
     "data": {
      "application/vnd.jupyter.widget-view+json": {
       "model_id": "fe4643ff77ae4b6f96f4471b502e0d9a",
       "version_major": 2,
       "version_minor": 0
      },
      "text/plain": [
       "FloatProgress(value=0.0, bar_style='info', description='Progress:', layout=Layout(height='25px', width='50%'),…"
      ]
     },
     "metadata": {},
     "output_type": "display_data"
    },
    {
     "name": "stdout",
     "output_type": "stream",
     "text": [
      "+----------------+--------+------+-----------+-----------+--------+--------------------+\n",
      "|start_time__year|Severity| group|total_count|total_count|fraction|             portion|\n",
      "+----------------+--------+------+-----------+-----------+--------+--------------------+\n",
      "|            2016|       1|2016-1|        219|     397771|     0.0| 0.05505680404051577|\n",
      "|            2016|       2|2016-2|     261987|     397771|    0.66|   65.86377589115345|\n",
      "|            2016|       3|2016-3|     121901|     397771|    0.31|  30.646024974168558|\n",
      "|            2016|       4|2016-4|      13664|     397771|    0.03|  3.4351423306374773|\n",
      "|            2017|       1|2017-1|        270|     694396|     0.0| 0.03888271245802107|\n",
      "|            2017|       2|2017-2|     448322|     694396|    0.65|   64.56287190594416|\n",
      "|            2017|       3|2017-3|     222688|     694396|    0.32|   32.06930915500665|\n",
      "|            2017|       4|2017-4|      23116|     694396|    0.03|   3.328936226591167|\n",
      "|            2018|       1|2018-1|        252|     864910|     0.0| 0.02913597946607161|\n",
      "|            2018|       2|2018-2|     558329|     864910|    0.65|   64.55342174330278|\n",
      "|            2018|       3|2018-3|     281790|     864910|    0.33|  32.580268467239364|\n",
      "|            2018|       4|2018-4|      24539|     864910|    0.03|   2.837173809991791|\n",
      "|            2019|       1|2019-1|        196|     924416|     0.0|0.021202575463860427|\n",
      "|            2019|       2|2019-2|     666595|     924416|    0.72|   72.10985097618389|\n",
      "|            2019|       3|2019-3|     230686|     924416|    0.25|  24.954782262531154|\n",
      "|            2019|       4|2019-4|      26939|     924416|    0.03|   2.914164185821102|\n",
      "+----------------+--------+------+-----------+-----------+--------+--------------------+\n",
      "\n",
      "2016,1,2016-1,219,219,0.0,0.05505680404051577\n",
      "2016,2,2016-2,261987,261987,0.66,65.86377589115345\n",
      "2016,3,2016-3,121901,121901,0.31,30.646024974168558\n",
      "2016,4,2016-4,13664,13664,0.03,3.4351423306374773\n",
      "2017,1,2017-1,270,270,0.0,0.03888271245802107\n",
      "2017,2,2017-2,448322,448322,0.65,64.56287190594416\n",
      "2017,3,2017-3,222688,222688,0.32,32.06930915500665\n",
      "2017,4,2017-4,23116,23116,0.03,3.328936226591167\n",
      "2018,1,2018-1,252,252,0.0,0.02913597946607161\n",
      "2018,2,2018-2,558329,558329,0.65,64.55342174330278\n",
      "2018,3,2018-3,281790,281790,0.33,32.580268467239364\n",
      "2018,4,2018-4,24539,24539,0.03,2.837173809991791\n",
      "2019,1,2019-1,196,196,0.0,0.021202575463860427\n",
      "2019,2,2019-2,666595,666595,0.72,72.10985097618389\n",
      "2019,3,2019-3,230686,230686,0.25,24.954782262531154\n",
      "2019,4,2019-4,26939,26939,0.03,2.914164185821102\n",
      "{'2016-1': 0.0, '2016-2': 0.66, '2016-3': 0.31, '2016-4': 0.03, '2017-1': 0.0, '2017-2': 0.65, '2017-3': 0.32, '2017-4': 0.03, '2018-1': 0.0, '2018-2': 0.65, '2018-3': 0.33, '2018-4': 0.03, '2019-1': 0.0, '2019-2': 0.72, '2019-3': 0.25, '2019-4': 0.03}\n",
      "+----------------+--------+-----------+\n",
      "|start_time__year|Severity|total_count|\n",
      "+----------------+--------+-----------+\n",
      "|            2016|       2|     172924|\n",
      "|            2016|       3|      37712|\n",
      "|            2016|       4|        413|\n",
      "|            2017|       2|     291248|\n",
      "|            2017|       3|      71170|\n",
      "|            2017|       4|        655|\n",
      "|            2018|       2|     362406|\n",
      "|            2018|       3|      93112|\n",
      "|            2018|       4|        790|\n",
      "|            2019|       2|     479952|\n",
      "|            2019|       3|      57752|\n",
      "|            2019|       4|        831|\n",
      "+----------------+--------+-----------+"
     ]
    }
   ],
   "source": [
    "df = spark.read.csv(output_path + \"accidentes_dummies_windspeed_windscale\", header=True)\n",
    "df1 = df.groupBy(\"start_time__year\", \"Severity\").agg(F.count(\"*\").alias(\"total_count\")).orderBy(\"start_time__year\", \"Severity\")\n",
    "df2 = df.groupBy(\"start_time__year\").agg(F.count(\"*\").alias(\"total_count\")).orderBy(\"start_time__year\")\n",
    "df3 = (df1\n",
    "    .join(df2, df1.start_time__year == df2.start_time__year, \"inner\")\n",
    "    .select(df1.start_time__year, \n",
    "            df1.Severity, \n",
    "            F.concat_ws(\"-\", df1.start_time__year, df1.Severity).alias(\"group\"),\n",
    "            df1.total_count, \n",
    "            df2.total_count,\n",
    "            (F.round(df1.total_count / df2.total_count, 2)).alias(\"fraction\"), \n",
    "            ((df1.total_count / df2.total_count)*100).alias(\"portion\")\n",
    "    )\n",
    ")\n",
    "df3.show()\n",
    "for row in df3.collect():\n",
    "    print(\"{},{},{},{},{},{},{}\".format(row.start_time__year, row.Severity, row.group, row.total_count, row.total_count, row.fraction, row.portion))\n",
    "\n",
    "fractions = {row.group: row.fraction for row in df3.collect()}\n",
    "print(fractions)\n",
    "df.withColumn(\"group\", F.concat_ws(\"-\", df1.start_time__year, df1.Severity)).sampleBy(\"group\", fractions=fractions, seed=0).groupBy(\"start_time__year\", \"Severity\").agg(F.count(\"*\").alias(\"total_count\")).orderBy(\"start_time__year\", \"Severity\").show()"
   ]
  },
  {
   "cell_type": "code",
   "execution_count": null,
   "id": "7bd8ac04-9971-43e1-b7c3-7b57ae344447",
   "metadata": {},
   "outputs": [],
   "source": []
  }
 ],
 "metadata": {
  "kernelspec": {
   "display_name": "Sparkmagic (PySpark)",
   "language": "python",
   "name": "pysparkkernel"
  },
  "language_info": {
   "codemirror_mode": {
    "name": "python",
    "version": 3
   },
   "file_extension": ".py",
   "mimetype": "text/x-python",
   "name": "pyspark",
   "pygments_lexer": "python3"
  }
 },
 "nbformat": 4,
 "nbformat_minor": 5
}
